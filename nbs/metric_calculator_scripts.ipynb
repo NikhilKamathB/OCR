{
 "cells": [
  {
   "cell_type": "code",
   "execution_count": 1,
   "id": "5a70d033",
   "metadata": {},
   "outputs": [
    {
     "data": {
      "text/html": [
       "<style>.container {width:100% !important;}</style>"
      ],
      "text/plain": [
       "<IPython.core.display.HTML object>"
      ]
     },
     "metadata": {},
     "output_type": "display_data"
    }
   ],
   "source": [
    "%load_ext autoreload\n",
    "%autoreload 2\n",
    "\n",
    "import os\n",
    "import sys\n",
    "import numpy as np\n",
    "import pandas as pd\n",
    "from pathlib import Path\n",
    "\n",
    "from IPython.core.display import display, HTML\n",
    "display(HTML('<style>.container {width:100% !important;}</style>'))\n"
   ]
  },
  {
   "cell_type": "code",
   "execution_count": 2,
   "id": "4f8caa17",
   "metadata": {},
   "outputs": [],
   "source": [
    "sys.path.append(\"../src\")"
   ]
  },
  {
   "cell_type": "code",
   "execution_count": 3,
   "id": "7000f9ea",
   "metadata": {},
   "outputs": [],
   "source": [
    "\n",
    "import os\n",
    "import json\n",
    "import requests\n",
    "import argparse\n",
    "import numpy as np\n",
    "import pandas as pd\n",
    "from tqdm import tqdm\n",
    "from pdf2image import convert_from_path\n",
    "from strsimpy.levenshtein import Levenshtein\n",
    "import matplotlib.pyplot as plt\n",
    "import seaborn as sns"
   ]
  },
  {
   "cell_type": "code",
   "execution_count": 6,
   "id": "e8b306bf",
   "metadata": {},
   "outputs": [],
   "source": [
    "from metrics import evaluate"
   ]
  },
  {
   "cell_type": "code",
   "execution_count": 8,
   "id": "c6c4c128",
   "metadata": {},
   "outputs": [
    {
     "name": "stdout",
     "output_type": "stream",
     "text": [
      "Help on module metrics.evaluate in metrics:\n",
      "\n",
      "NAME\n",
      "    metrics.evaluate\n",
      "\n",
      "FUNCTIONS\n",
      "    scores(anno_file, inf_file, file_type)\n",
      "\n",
      "DATA\n",
      "    cols = {'ktp': ['agama', 'alamat', 'berlaku_hingga', 'jenis_kelamin', ...\n",
      "\n",
      "FILE\n",
      "    /home/darshansonde/Code/work/2021_tolaram/insureka-ml/ocr/src/metrics/evaluate.py\n",
      "\n",
      "\n"
     ]
    }
   ],
   "source": [
    "help(evaluate)"
   ]
  },
  {
   "cell_type": "code",
   "execution_count": 56,
   "id": "59d6a68e",
   "metadata": {},
   "outputs": [
    {
     "name": "stdout",
     "output_type": "stream",
     "text": [
      "\u001b[01;34m../data/interim/2022-01-06_ocr_annotated\u001b[00m\r\n",
      "├── DocumentAnalysis-2022-01-30_ktp_annotated.csv\r\n",
      "├── DocumentAnalysis-2022-01-30_ktp_cleaned.csv\r\n",
      "├── DocumentAnalysis-2022-01-30_ktp.csv\r\n",
      "├── DocumentAnalysis-2022-01-30_ktp_inference.csv\r\n",
      "├── DocumentAnalysis-2022-01-30_ktp_metrics.csv\r\n",
      "├── DocumentAnalysis-2022-01-30_sim_annotated.csv\r\n",
      "├── DocumentAnalysis-2022-01-30_sim_cleaned.csv\r\n",
      "├── DocumentAnalysis-2022-01-30_sim.csv\r\n",
      "├── DocumentAnalysis-2022-01-30_sim_inference.csv\r\n",
      "├── DocumentAnalysis-2022-01-30_stnk_annotated.csv\r\n",
      "├── DocumentAnalysis-2022-01-30_stnk_cleaned.csv\r\n",
      "├── DocumentAnalysis-2022-01-30_stnk.csv\r\n",
      "├── DocumentAnalysis-2022-01-30_stnk_inference.csv\r\n",
      "└── OCR ANNOTATION TRACKING.xlsx\r\n",
      "\r\n",
      "0 directories, 14 files\r\n"
     ]
    }
   ],
   "source": [
    "DATA_DIR=Path(\"../data/interim/2022-01-06_ocr_annotated\")\n",
    "!tree $DATA_DIR"
   ]
  },
  {
   "cell_type": "code",
   "execution_count": 57,
   "id": "f3b924c4",
   "metadata": {},
   "outputs": [],
   "source": [
    "dann = pd.read_csv(DATA_DIR/\"DocumentAnalysis-2022-01-30_ktp_annotated.csv\")\n",
    "dann.fillna('', inplace=True)\n",
    "dinf = pd.read_csv(DATA_DIR/\"DocumentAnalysis-2022-01-30_ktp_inference.csv\")\n",
    "dinf.fillna('', inplace=True)"
   ]
  },
  {
   "cell_type": "code",
   "execution_count": 58,
   "id": "2d1617ba",
   "metadata": {},
   "outputs": [],
   "source": [
    "dinf['nik'] = dinf['nik'].astype(str)"
   ]
  },
  {
   "cell_type": "code",
   "execution_count": 59,
   "id": "0c47a6de",
   "metadata": {},
   "outputs": [
    {
     "data": {
      "text/plain": [
       "(75, 22)"
      ]
     },
     "execution_count": 59,
     "metadata": {},
     "output_type": "execute_result"
    }
   ],
   "source": [
    "dinf.shape"
   ]
  },
  {
   "cell_type": "code",
   "execution_count": 60,
   "id": "b3e69be9",
   "metadata": {},
   "outputs": [
    {
     "data": {
      "text/plain": [
       "(75, 22)"
      ]
     },
     "execution_count": 60,
     "metadata": {},
     "output_type": "execute_result"
    }
   ],
   "source": [
    "dann.shape"
   ]
  },
  {
   "cell_type": "code",
   "execution_count": 61,
   "id": "b5fcfa01",
   "metadata": {},
   "outputs": [
    {
     "data": {
      "text/plain": [
       "(75, 43)"
      ]
     },
     "execution_count": 61,
     "metadata": {},
     "output_type": "execute_result"
    }
   ],
   "source": [
    "df = pd.merge(dann, dinf, on='id', suffixes=(\"_annotated\", \"\"))\n",
    "df.shape"
   ]
  },
  {
   "cell_type": "code",
   "execution_count": 62,
   "id": "e4aa80c9",
   "metadata": {},
   "outputs": [
    {
     "data": {
      "text/html": [
       "<div>\n",
       "<style scoped>\n",
       "    .dataframe tbody tr th:only-of-type {\n",
       "        vertical-align: middle;\n",
       "    }\n",
       "\n",
       "    .dataframe tbody tr th {\n",
       "        vertical-align: top;\n",
       "    }\n",
       "\n",
       "    .dataframe thead th {\n",
       "        text-align: right;\n",
       "    }\n",
       "</style>\n",
       "<table border=\"1\" class=\"dataframe\">\n",
       "  <thead>\n",
       "    <tr style=\"text-align: right;\">\n",
       "      <th></th>\n",
       "      <th>Unnamed: 0_annotated</th>\n",
       "      <th>id</th>\n",
       "      <th>image_annotated</th>\n",
       "      <th>gcs_link_annotated</th>\n",
       "      <th>type_annotated</th>\n",
       "      <th>is_completed_annotated</th>\n",
       "      <th>created_at_annotated</th>\n",
       "      <th>result_annotated</th>\n",
       "      <th>agama_annotated</th>\n",
       "      <th>alamat_annotated</th>\n",
       "      <th>...</th>\n",
       "      <th>agama_dist</th>\n",
       "      <th>agama_err</th>\n",
       "      <th>status_perkawinan_dist</th>\n",
       "      <th>status_perkawinan_err</th>\n",
       "      <th>pekerjaan_dist</th>\n",
       "      <th>pekerjaan_err</th>\n",
       "      <th>kewarganegaraan_dist</th>\n",
       "      <th>kewarganegaraan_err</th>\n",
       "      <th>berlaku_hingga_dist</th>\n",
       "      <th>berlaku_hingga_err</th>\n",
       "    </tr>\n",
       "  </thead>\n",
       "  <tbody>\n",
       "    <tr>\n",
       "      <th>0</th>\n",
       "      <td>0</td>\n",
       "      <td>617</td>\n",
       "      <td>ocr/analysis/KTP27.jpeg</td>\n",
       "      <td>gs://som-datasets/interim/2022-01-06_combined_...</td>\n",
       "      <td>KTP</td>\n",
       "      <td>1</td>\n",
       "      <td>2022-01-09 15:33:47</td>\n",
       "      <td>413</td>\n",
       "      <td>ISLAM</td>\n",
       "      <td>JL LETJEN SUPRAPTO XIV/89</td>\n",
       "      <td>...</td>\n",
       "      <td>0</td>\n",
       "      <td>0.0</td>\n",
       "      <td>11</td>\n",
       "      <td>100.0</td>\n",
       "      <td>14</td>\n",
       "      <td>73.684211</td>\n",
       "      <td>7</td>\n",
       "      <td>100.0</td>\n",
       "      <td>0</td>\n",
       "      <td>0.0</td>\n",
       "    </tr>\n",
       "    <tr>\n",
       "      <th>1</th>\n",
       "      <td>1</td>\n",
       "      <td>616</td>\n",
       "      <td>ocr/analysis/KTP11.jpeg</td>\n",
       "      <td>gs://som-datasets/interim/2022-01-06_combined_...</td>\n",
       "      <td>KTP</td>\n",
       "      <td>1</td>\n",
       "      <td>2022-01-09 15:29:18</td>\n",
       "      <td>412</td>\n",
       "      <td>ISLAM</td>\n",
       "      <td>JL. TERUNG NO. 2 A</td>\n",
       "      <td>...</td>\n",
       "      <td>0</td>\n",
       "      <td>0.0</td>\n",
       "      <td>11</td>\n",
       "      <td>100.0</td>\n",
       "      <td>14</td>\n",
       "      <td>82.352941</td>\n",
       "      <td>7</td>\n",
       "      <td>100.0</td>\n",
       "      <td>12</td>\n",
       "      <td>100.0</td>\n",
       "    </tr>\n",
       "    <tr>\n",
       "      <th>2</th>\n",
       "      <td>2</td>\n",
       "      <td>615</td>\n",
       "      <td>ocr/analysis/KTP12.jpeg</td>\n",
       "      <td>gs://som-datasets/interim/2022-01-06_combined_...</td>\n",
       "      <td>KTP</td>\n",
       "      <td>1</td>\n",
       "      <td>2022-01-09 15:24:54</td>\n",
       "      <td>411</td>\n",
       "      <td>ISLAM</td>\n",
       "      <td>BTN MANGGA TIGA BLOK I NO21</td>\n",
       "      <td>...</td>\n",
       "      <td>20</td>\n",
       "      <td>100.0</td>\n",
       "      <td>7</td>\n",
       "      <td>100.0</td>\n",
       "      <td>6</td>\n",
       "      <td>60.000000</td>\n",
       "      <td>7</td>\n",
       "      <td>100.0</td>\n",
       "      <td>0</td>\n",
       "      <td>0.0</td>\n",
       "    </tr>\n",
       "    <tr>\n",
       "      <th>3</th>\n",
       "      <td>3</td>\n",
       "      <td>614</td>\n",
       "      <td>ocr/analysis/KTP13.jpeg</td>\n",
       "      <td>gs://som-datasets/interim/2022-01-06_combined_...</td>\n",
       "      <td>KTP</td>\n",
       "      <td>1</td>\n",
       "      <td>2022-01-09 15:19:37</td>\n",
       "      <td>410</td>\n",
       "      <td>ISLAM</td>\n",
       "      <td>JL.HASAN SAPUTRA IV NO.10</td>\n",
       "      <td>...</td>\n",
       "      <td>0</td>\n",
       "      <td>0.0</td>\n",
       "      <td>11</td>\n",
       "      <td>100.0</td>\n",
       "      <td>12</td>\n",
       "      <td>80.000000</td>\n",
       "      <td>7</td>\n",
       "      <td>100.0</td>\n",
       "      <td>0</td>\n",
       "      <td>0.0</td>\n",
       "    </tr>\n",
       "    <tr>\n",
       "      <th>4</th>\n",
       "      <td>4</td>\n",
       "      <td>613</td>\n",
       "      <td>ocr/analysis/KTP14.jpeg</td>\n",
       "      <td>gs://som-datasets/interim/2022-01-06_combined_...</td>\n",
       "      <td>KTP</td>\n",
       "      <td>1</td>\n",
       "      <td>2022-01-09 15:05:22</td>\n",
       "      <td>409</td>\n",
       "      <td>ISLAM</td>\n",
       "      <td>KP. BOJONG PETIR</td>\n",
       "      <td>...</td>\n",
       "      <td>2</td>\n",
       "      <td>40.0</td>\n",
       "      <td>11</td>\n",
       "      <td>100.0</td>\n",
       "      <td>9</td>\n",
       "      <td>90.000000</td>\n",
       "      <td>7</td>\n",
       "      <td>100.0</td>\n",
       "      <td>0</td>\n",
       "      <td>0.0</td>\n",
       "    </tr>\n",
       "  </tbody>\n",
       "</table>\n",
       "<p>5 rows × 71 columns</p>\n",
       "</div>"
      ],
      "text/plain": [
       "   Unnamed: 0_annotated   id          image_annotated  \\\n",
       "0                     0  617  ocr/analysis/KTP27.jpeg   \n",
       "1                     1  616  ocr/analysis/KTP11.jpeg   \n",
       "2                     2  615  ocr/analysis/KTP12.jpeg   \n",
       "3                     3  614  ocr/analysis/KTP13.jpeg   \n",
       "4                     4  613  ocr/analysis/KTP14.jpeg   \n",
       "\n",
       "                                  gcs_link_annotated type_annotated  \\\n",
       "0  gs://som-datasets/interim/2022-01-06_combined_...            KTP   \n",
       "1  gs://som-datasets/interim/2022-01-06_combined_...            KTP   \n",
       "2  gs://som-datasets/interim/2022-01-06_combined_...            KTP   \n",
       "3  gs://som-datasets/interim/2022-01-06_combined_...            KTP   \n",
       "4  gs://som-datasets/interim/2022-01-06_combined_...            KTP   \n",
       "\n",
       "   is_completed_annotated created_at_annotated  result_annotated  \\\n",
       "0                       1  2022-01-09 15:33:47               413   \n",
       "1                       1  2022-01-09 15:29:18               412   \n",
       "2                       1  2022-01-09 15:24:54               411   \n",
       "3                       1  2022-01-09 15:19:37               410   \n",
       "4                       1  2022-01-09 15:05:22               409   \n",
       "\n",
       "  agama_annotated             alamat_annotated  ... agama_dist agama_err  \\\n",
       "0           ISLAM    JL LETJEN SUPRAPTO XIV/89  ...          0       0.0   \n",
       "1           ISLAM           JL. TERUNG NO. 2 A  ...          0       0.0   \n",
       "2           ISLAM  BTN MANGGA TIGA BLOK I NO21  ...         20     100.0   \n",
       "3           ISLAM    JL.HASAN SAPUTRA IV NO.10  ...          0       0.0   \n",
       "4           ISLAM             KP. BOJONG PETIR  ...          2      40.0   \n",
       "\n",
       "  status_perkawinan_dist status_perkawinan_err pekerjaan_dist pekerjaan_err  \\\n",
       "0                     11                 100.0             14     73.684211   \n",
       "1                     11                 100.0             14     82.352941   \n",
       "2                      7                 100.0              6     60.000000   \n",
       "3                     11                 100.0             12     80.000000   \n",
       "4                     11                 100.0              9     90.000000   \n",
       "\n",
       "  kewarganegaraan_dist kewarganegaraan_err berlaku_hingga_dist  \\\n",
       "0                    7               100.0                   0   \n",
       "1                    7               100.0                  12   \n",
       "2                    7               100.0                   0   \n",
       "3                    7               100.0                   0   \n",
       "4                    7               100.0                   0   \n",
       "\n",
       "  berlaku_hingga_err  \n",
       "0                0.0  \n",
       "1              100.0  \n",
       "2                0.0  \n",
       "3                0.0  \n",
       "4                0.0  \n",
       "\n",
       "[5 rows x 71 columns]"
      ]
     },
     "execution_count": 62,
     "metadata": {},
     "output_type": "execute_result"
    }
   ],
   "source": [
    "fields = ['nik', 'nama', 'tgl_lahir', 'jenis_kelamin', 'tempat', 'alamat', 'rt_rw', 'kel_desa',\n",
    "            'kecamatan', 'agama', 'status_perkawinan', 'pekerjaan',\n",
    "            'kewarganegaraan', 'berlaku_hingga']\n",
    "ldist = Levenshtein()\n",
    "def apply_levenshtein(x):\n",
    "    for field in fields:\n",
    "        x[f\"{field}_dist\"] = int(ldist.distance(x[field], x[f\"{field}_annotated\"]))\n",
    "\n",
    "        # zero division error corrections. if both annotated and source are blank. we consider it as 0% error.\n",
    "        if x[f\"{field}_dist\"] == 0:\n",
    "            x[f\"{field}_err\"] = 0\n",
    "        else:\n",
    "            x[f\"{field}_err\"] = min(x[f\"{field}_dist\"] * 100 / len(x[f\"{field}_annotated\"]) if len(x[f\"{field}_annotated\"]) > 0 else 100, 100)\n",
    "    return x\n",
    "\n",
    "df = df.apply(apply_levenshtein, axis=1)\n",
    "\n",
    "df.head()"
   ]
  },
  {
   "cell_type": "code",
   "execution_count": 63,
   "id": "13a479be",
   "metadata": {},
   "outputs": [
    {
     "data": {
      "text/plain": [
       "nik_dist                  278\n",
       "nama_dist                 245\n",
       "tgl_lahir_dist            837\n",
       "jenis_kelamin_dist        611\n",
       "tempat_dist               274\n",
       "alamat_dist               706\n",
       "rt_rw_dist                374\n",
       "kel_desa_dist             455\n",
       "kecamatan_dist            173\n",
       "agama_dist                416\n",
       "status_perkawinan_dist    540\n",
       "pekerjaan_dist            735\n",
       "kewarganegaraan_dist      422\n",
       "berlaku_hingga_dist       309\n",
       "dtype: int64"
      ]
     },
     "execution_count": 63,
     "metadata": {},
     "output_type": "execute_result"
    }
   ],
   "source": [
    "df[[f + \"_dist\" for f in fields]].sum()"
   ]
  },
  {
   "cell_type": "code",
   "execution_count": 64,
   "id": "f81bf076",
   "metadata": {},
   "outputs": [
    {
     "data": {
      "text/plain": [
       "6375"
      ]
     },
     "execution_count": 64,
     "metadata": {},
     "output_type": "execute_result"
    }
   ],
   "source": [
    "sum(df[[f + \"_dist\" for f in fields]].sum())"
   ]
  },
  {
   "cell_type": "code",
   "execution_count": 65,
   "id": "1756bf97",
   "metadata": {},
   "outputs": [
    {
     "data": {
      "text/plain": [
       "nik_err                  23.297939\n",
       "nama_err                 22.120414\n",
       "tgl_lahir_err            90.666667\n",
       "jenis_kelamin_err        93.333333\n",
       "tempat_err               48.009117\n",
       "alamat_err               36.988739\n",
       "rt_rw_err                70.751323\n",
       "kel_desa_err             62.849832\n",
       "kecamatan_err            21.631536\n",
       "agama_err                53.185185\n",
       "status_perkawinan_err    90.666667\n",
       "pekerjaan_err            70.747392\n",
       "kewarganegaraan_err      89.333333\n",
       "berlaku_hingga_err       30.333333\n",
       "dtype: float64"
      ]
     },
     "execution_count": 65,
     "metadata": {},
     "output_type": "execute_result"
    }
   ],
   "source": [
    "df[[f + \"_err\" for f in fields]].mean()"
   ]
  },
  {
   "cell_type": "code",
   "execution_count": 66,
   "id": "2c516dde",
   "metadata": {},
   "outputs": [
    {
     "data": {
      "text/plain": [
       "57.42248642339847"
      ]
     },
     "execution_count": 66,
     "metadata": {},
     "output_type": "execute_result"
    }
   ],
   "source": [
    "df[[f + \"_err\" for f in fields]].mean().mean()"
   ]
  },
  {
   "cell_type": "code",
   "execution_count": 67,
   "id": "b0400cb5",
   "metadata": {},
   "outputs": [],
   "source": [
    "def scores(anno_file, inf_file, file_type):\n",
    "    dann = pd.read_csv(anno_file)\n",
    "    dann.fillna('', inplace=True)\n",
    "    dinf = pd.read_csv(inf_file)\n",
    "    dinf.fillna('', inplace=True)\n",
    "    \n",
    "    #hackfix\n",
    "    if 'nik' in dinf:\n",
    "        dinf['nik'] = dinf['nik'].astype(str)\n",
    "    \n",
    "    df = pd.merge(dann, dinf, on='id', suffixes=(\"_annotated\", \"\"))\n",
    "    \n",
    "    \n",
    "    cols = {'ktp': ['agama',\n",
    "        'alamat',\n",
    "        'berlaku_hingga',\n",
    "        'jenis_kelamin',\n",
    "        'kecamatan',\n",
    "        'kel_desa',\n",
    "        'kewarganegaraan',\n",
    "        'nama',\n",
    "        'nik',\n",
    "        'pekerjaan',\n",
    "        'rt_rw',\n",
    "        'status_perkawinan',\n",
    "        'tempat',\n",
    "        'tgl_lahir'],\n",
    "        'sim': [\n",
    "        'nama',\n",
    "        'tgl_lahir',\n",
    "        'jenis_kelamin',\n",
    "        'tempat',\n",
    "        'alamat',\n",
    "        'kel_desa',\n",
    "        'kecamatan',\n",
    "        'agama',\n",
    "        'pekerjaan',\n",
    "        'kewarganegaraan',\n",
    "        'berlaku_hingga'\n",
    "        ],\n",
    "        'stnk': [\n",
    "        'no',\n",
    "        'nomor_registrasi',\n",
    "        'nama_pemilik',\n",
    "        'alamat',\n",
    "        'berlaku_sd',\n",
    "        'urut',\n",
    "        'kohir',\n",
    "        'nik',\n",
    "        'bbnkb_pokok',\n",
    "        'pkb_pokok',\n",
    "        'swdkllj_pokok',\n",
    "        'biaya_adm_stnk_pokok',\n",
    "        'biaya_adm_tnkb_pokok',\n",
    "        'jumlah_pokok',\n",
    "        'bbnkb_sanski_administratif',\n",
    "        'pkb_sanski_administratif',\n",
    "        'swdkllj_sanski_administratif',\n",
    "        'biaya_adm_stnk_sanski_administratif',\n",
    "        'biaya_adm_tnkb_sanski_administratif',\n",
    "        'jumlah_sanski_administratif',\n",
    "        'bbnkb_jumlah',\n",
    "        'pkb_jumlah',\n",
    "        'swdkllj_jumlah',\n",
    "        'biaya_adm_stnk_jumlah',\n",
    "        'biaya_adm_tnkb_jumlah',\n",
    "        'jumlah_jumlah',\n",
    "        'ditetapkan_tanggal',\n",
    "        'penaksir_pajak',\n",
    "        'merk_type',\n",
    "        'jenis_model',\n",
    "        'tahun_pembuatan_perakitan',\n",
    "        'warna_kb',\n",
    "        'isi_silinder_hp',\n",
    "        'nomor_rangka_nik',\n",
    "        'nomor_mesin',\n",
    "        'no_bpkb',\n",
    "        'bahan_bakar',\n",
    "        'warna_tnkb',\n",
    "        'kepemilikan_ke',\n",
    "        'no_registrasilama',\n",
    "        'kode_njkb',\n",
    "        'type',\n",
    "        'jenis',\n",
    "        'model',\n",
    "        'tahun_pembuatan',\n",
    "        'isi_silinder',\n",
    "        'nomor_ragka_nik_vin',\n",
    "        'nomor_mesin2',\n",
    "        'warna2',\n",
    "        'bahan_bakar2',\n",
    "        'warna_tnkb2',\n",
    "        'tahun_registrasi',\n",
    "        'nomor_bpkb',\n",
    "        'kode_lokasi',\n",
    "        'no_urut_pendaftaran',\n",
    "        'berlaku_sampai'\n",
    "        ]}\n",
    "    \n",
    "    fields = cols[file_type]\n",
    "    \n",
    "    ldist = Levenshtein()\n",
    "    \n",
    "    def apply_levenshtein(x):\n",
    "        for field in fields:\n",
    "            x[f\"{field}_dist\"] = int(ldist.distance(x[field], x[f\"{field}_annotated\"]))\n",
    "\n",
    "            # zero division error corrections. if both annotated and source are blank. we consider it as 0% error.\n",
    "            if x[f\"{field}_dist\"] == 0:\n",
    "                x[f\"{field}_err\"] = 0\n",
    "            else:\n",
    "                x[f\"{field}_err\"] = min(x[f\"{field}_dist\"] * 100 / len(x[f\"{field}_annotated\"]) if len(x[f\"{field}_annotated\"]) > 0 else 100, 100)\n",
    "        return x\n",
    "\n",
    "    df = df.apply(apply_levenshtein, axis=1)\n",
    "\n",
    "    return df\n",
    "\n",
    "res = scores(DATA_DIR/\"DocumentAnalysis-2022-01-30_ktp_annotated.csv\", DATA_DIR/\"DocumentAnalysis-2022-01-30_ktp_inference.csv\", 'ktp')\n"
   ]
  },
  {
   "cell_type": "code",
   "execution_count": 68,
   "id": "069bd2fa",
   "metadata": {},
   "outputs": [
    {
     "data": {
      "text/plain": [
       "Index(['Unnamed: 0_annotated', 'id', 'image_annotated', 'gcs_link_annotated',\n",
       "       'type_annotated', 'is_completed_annotated', 'created_at_annotated',\n",
       "       'result_annotated', 'agama_annotated', 'alamat_annotated',\n",
       "       'berlaku_hingga_annotated', 'jenis_kelamin_annotated',\n",
       "       'kecamatan_annotated', 'kel_desa_annotated',\n",
       "       'kewarganegaraan_annotated', 'nama_annotated', 'nik_annotated',\n",
       "       'pekerjaan_annotated', 'rt_rw_annotated', 'status_perkawinan_annotated',\n",
       "       'tempat_annotated', 'tgl_lahir_annotated', 'Unnamed: 0', 'image',\n",
       "       'gcs_link', 'type', 'is_completed', 'created_at', 'result', 'agama',\n",
       "       'alamat', 'berlaku_hingga', 'jenis_kelamin', 'kecamatan', 'kel_desa',\n",
       "       'kewarganegaraan', 'nama', 'nik', 'pekerjaan', 'rt_rw',\n",
       "       'status_perkawinan', 'tempat', 'tgl_lahir', 'agama_dist', 'agama_err',\n",
       "       'alamat_dist', 'alamat_err', 'berlaku_hingga_dist',\n",
       "       'berlaku_hingga_err', 'jenis_kelamin_dist', 'jenis_kelamin_err',\n",
       "       'kecamatan_dist', 'kecamatan_err', 'kel_desa_dist', 'kel_desa_err',\n",
       "       'kewarganegaraan_dist', 'kewarganegaraan_err', 'nama_dist', 'nama_err',\n",
       "       'nik_dist', 'nik_err', 'pekerjaan_dist', 'pekerjaan_err', 'rt_rw_dist',\n",
       "       'rt_rw_err', 'status_perkawinan_dist', 'status_perkawinan_err',\n",
       "       'tempat_dist', 'tempat_err', 'tgl_lahir_dist', 'tgl_lahir_err'],\n",
       "      dtype='object')"
      ]
     },
     "execution_count": 68,
     "metadata": {},
     "output_type": "execute_result"
    }
   ],
   "source": [
    "res.columns"
   ]
  },
  {
   "cell_type": "code",
   "execution_count": 69,
   "id": "a4906902",
   "metadata": {},
   "outputs": [],
   "source": [
    "res.drop(\"Unnamed: 0_annotated\", axis=1, inplace=True)"
   ]
  },
  {
   "cell_type": "code",
   "execution_count": 70,
   "id": "cd30ad21",
   "metadata": {},
   "outputs": [],
   "source": [
    "res.to_csv(DATA_DIR/\"DocumentAnalysis-2022-01-30_ktp_metrics.csv\", index=False)"
   ]
  },
  {
   "cell_type": "code",
   "execution_count": 90,
   "id": "2f5b3fb8",
   "metadata": {},
   "outputs": [],
   "source": [
    "metrics = df[[f + \"_err\" for f in fields]].mean()"
   ]
  },
  {
   "cell_type": "code",
   "execution_count": 101,
   "id": "3867d7b3",
   "metadata": {},
   "outputs": [
    {
     "name": "stdout",
     "output_type": "stream",
     "text": [
      "nik_err 23.297938662644544\n",
      "nama_err 22.120414360321483\n",
      "tgl_lahir_err 90.66666666666667\n",
      "jenis_kelamin_err 93.33333333333333\n",
      "tempat_err 48.009116809116804\n",
      "alamat_err 36.98873871407689\n",
      "rt_rw_err 70.75132275132275\n",
      "kel_desa_err 62.84983164983165\n",
      "kecamatan_err 21.631536099492756\n",
      "agama_err 53.18518518518519\n",
      "status_perkawinan_err 90.66666666666667\n",
      "pekerjaan_err 70.74739236225304\n",
      "kewarganegaraan_err 89.33333333333333\n",
      "berlaku_hingga_err 30.333333333333332\n"
     ]
    }
   ],
   "source": [
    "for k,v in metrics.iteritems():\n",
    "    print(k,v)"
   ]
  },
  {
   "cell_type": "code",
   "execution_count": null,
   "id": "06fa1cf6",
   "metadata": {},
   "outputs": [],
   "source": []
  }
 ],
 "metadata": {
  "kernelspec": {
   "display_name": "Python 3 (ipykernel)",
   "language": "python",
   "name": "python3"
  },
  "language_info": {
   "codemirror_mode": {
    "name": "ipython",
    "version": 3
   },
   "file_extension": ".py",
   "mimetype": "text/x-python",
   "name": "python",
   "nbconvert_exporter": "python",
   "pygments_lexer": "ipython3",
   "version": "3.8.12"
  }
 },
 "nbformat": 4,
 "nbformat_minor": 5
}
