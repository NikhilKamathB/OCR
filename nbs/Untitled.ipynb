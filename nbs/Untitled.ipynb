{
 "cells": [
  {
   "cell_type": "code",
   "execution_count": 19,
   "id": "d85a5c74-37eb-4740-813e-6b8741209189",
   "metadata": {},
   "outputs": [],
   "source": [
    "import os\n",
    "import json\n",
    "import requests\n",
    "import argparse\n",
    "import numpy as np\n",
    "import pandas as pd\n",
    "from tqdm import tqdm\n",
    "from pdf2image import convert_from_path\n",
    "from strsimpy.levenshtein import Levenshtein\n",
    "from bpemb import BPEmb\n",
    "from dateutil.parser import parse\n"
   ]
  },
  {
   "cell_type": "code",
   "execution_count": 2,
   "id": "d12f432d-3066-4690-87a1-1c19f8a0780b",
   "metadata": {},
   "outputs": [],
   "source": [
    "DATA_DIR = \"../data\"\n",
    "ANNOTATION_FILE = f\"{DATA_DIR}/interim/2022-01-06_combined_orc_kyc/ktp_ground_truth.csv\""
   ]
  },
  {
   "cell_type": "code",
   "execution_count": 3,
   "id": "d4906d6a-4c28-41f9-a125-5b6fbf92ec5a",
   "metadata": {},
   "outputs": [],
   "source": [
    "fields = ['nik', 'nama', 'tgl_lahir', 'jenis_kelamin', 'tempat', 'alamat', 'rt_rw', 'kel_desa',\n",
    "            'kecamatan', 'agama', 'status_perkawinan', 'pekerjaan',\n",
    "            'kewarganegaraan', 'berlaku_hingga']\n",
    "            \n",
    "df = pd.read_csv(ANNOTATION_FILE, dtype=str)\n",
    "df.fillna('', inplace=True)\n"
   ]
  },
  {
   "cell_type": "code",
   "execution_count": 8,
   "id": "6afdd6b5-9767-45bc-89a3-e43bed979c47",
   "metadata": {
    "tags": []
   },
   "outputs": [],
   "source": [
    "rec = f\"{DATA_DIR}/interim/2022-01-06_combined_orc_kyc/KTP/KTP40.json\""
   ]
  },
  {
   "cell_type": "code",
   "execution_count": 10,
   "id": "203191bc-b95d-408f-85cf-9614d3898067",
   "metadata": {},
   "outputs": [
    {
     "name": "stdout",
     "output_type": "stream",
     "text": [
      "downloading https://nlp.h-its.org/bpemb/id/id.wiki.bpe.vs10000.model\n"
     ]
    },
    {
     "name": "stderr",
     "output_type": "stream",
     "text": [
      "100%|████████████████████████████████████████████████████████████████████████████████████████████████████████████████████████████████████████████████████████████████████████████████████████████| 396303/396303 [00:00<00:00, 789345.34B/s]\n"
     ]
    },
    {
     "name": "stdout",
     "output_type": "stream",
     "text": [
      "downloading https://nlp.h-its.org/bpemb/id/id.wiki.bpe.vs10000.d100.w2v.bin.tar.gz\n"
     ]
    },
    {
     "name": "stderr",
     "output_type": "stream",
     "text": [
      "100%|█████████████████████████████████████████████████████████████████████████████████████████████████████████████████████████████████████████████████████████████████████████████████████████| 3780176/3780176 [00:01<00:00, 3595588.41B/s]\n"
     ]
    }
   ],
   "source": [
    "bpemb = BPEmb(lang=\"id\")"
   ]
  },
  {
   "cell_type": "code",
   "execution_count": 38,
   "id": "dfcef5b0-c377-4891-9a3e-e6d85caff353",
   "metadata": {},
   "outputs": [
    {
     "data": {
      "text/plain": [
       "(3, 100)"
      ]
     },
     "execution_count": 38,
     "metadata": {},
     "output_type": "execute_result"
    }
   ],
   "source": [
    "bpemb.embed(\"LAKI-LAKI\").shape"
   ]
  },
  {
   "cell_type": "code",
   "execution_count": 40,
   "id": "10b56122-608e-4c74-be38-9c497065884e",
   "metadata": {},
   "outputs": [
    {
     "data": {
      "text/plain": [
       "['▁laki', '-', 'laki']"
      ]
     },
     "execution_count": 40,
     "metadata": {},
     "output_type": "execute_result"
    }
   ],
   "source": [
    "bpemb.encode(\"LAKI-LAKI\")"
   ]
  },
  {
   "cell_type": "code",
   "execution_count": 17,
   "id": "1e6d3563-5ba9-4969-86cb-c3170232864b",
   "metadata": {},
   "outputs": [
    {
     "data": {
      "text/plain": [
       "array([[-0.426863,  0.708062, -0.514959, ..., -1.039866, -0.460451,\n",
       "         0.349207],\n",
       "       [-0.251193,  0.09103 ,  0.111474, ..., -0.317971, -0.041974,\n",
       "        -0.038426],\n",
       "       [ 0.16469 ,  0.042805, -0.550342, ..., -0.575913,  0.044203,\n",
       "         0.278542],\n",
       "       ...,\n",
       "       [ 0.106265,  0.528631, -0.269679, ..., -0.135305, -0.201366,\n",
       "         0.945805],\n",
       "       [-0.463523,  1.458492,  0.391411, ..., -0.575773, -0.049584,\n",
       "         0.511122],\n",
       "       [ 0.137906,  1.261111, -0.443403, ..., -0.102067,  0.071523,\n",
       "         0.408098]], dtype=float32)"
      ]
     },
     "execution_count": 17,
     "metadata": {},
     "output_type": "execute_result"
    }
   ],
   "source": [
    "bpemb.vectors"
   ]
  },
  {
   "cell_type": "code",
   "execution_count": 36,
   "id": "1ee3acb7-6cf9-4e2a-a6e8-e21ecaa4df44",
   "metadata": {},
   "outputs": [
    {
     "data": {
      "text/plain": [
       "{'isdate': False,\n",
       " 'iszipcode': False,\n",
       " 'isalpha': False,\n",
       " 'isalnum': False,\n",
       " 'isdecimal': False,\n",
       " 'isdigit': False,\n",
       " 'isfloat': False,\n",
       " 'isspace': False}"
      ]
     },
     "execution_count": 36,
     "metadata": {},
     "output_type": "execute_result"
    }
   ],
   "source": [
    "# Simple Classifier\n",
    "# 1. add bpe embedding\n",
    "# 2. add explicit code \n",
    "\n",
    "def isdate(string, fuzzy=False):\n",
    "    \"\"\"\n",
    "    Return whether the string can be interpreted as a date.\n",
    "\n",
    "    :param string: str, string to check for date\n",
    "    :param fuzzy: bool, ignore unknown tokens in string if True\n",
    "    \"\"\"\n",
    "    try: \n",
    "        parse(string, fuzzy=fuzzy)\n",
    "        return True\n",
    "\n",
    "    except (ValueError, OverflowError):\n",
    "        return False\n",
    "\n",
    "def iszipcode(string):\n",
    "    return len(string) == 5 and string.isnumeric()\n",
    "\n",
    "def isfloat(n: str) -> bool:\n",
    "    try:\n",
    "        float(n)\n",
    "        return True\n",
    "    except ValueError:\n",
    "        return False\n",
    "    \n",
    "# - isDate \n",
    "\n",
    "# - isZipCode \n",
    "\n",
    "# - isAlpha \n",
    "\n",
    "# - isAlphaNumeric \n",
    "\n",
    "# - isNumeric \n",
    "\n",
    "# - isNumericWithSymbols \n",
    "\n",
    "# - isNumberWithDecimal \n",
    "\n",
    "# - isRealNumber \n",
    "\n",
    "# - isKnownCity \n",
    "\n",
    "# - isKnownCountry \n",
    "\n",
    "# - isCurrency \n",
    "\n",
    "# - isGender \n",
    "\n",
    "# - isNationality \n",
    "\n",
    "\n",
    "x='1234.5'\n",
    "fs = {}\n",
    "fs['isdate'] = isdate(x)\n",
    "fs['iszipcode'] = iszipcode(x)\n",
    "fs['isalpha'] = x.isalpha()\n",
    "fs['isalnum'] = x.isalnum()\n",
    "fs['isdecimal'] = x.isdecimal()\n",
    "fs['isdigit'] = x.isdigit()\n",
    "fs['isfloat'] = x.isnumeric()\n",
    "fs['isspace'] = x.isspace()\n",
    "\n"
   ]
  },
  {
   "cell_type": "code",
   "execution_count": null,
   "id": "5ebbfb21-05e7-4283-bad1-7a32d22ee3c8",
   "metadata": {},
   "outputs": [],
   "source": []
  }
 ],
 "metadata": {
  "kernelspec": {
   "display_name": "Python 3 (ipykernel)",
   "language": "python",
   "name": "python3"
  },
  "language_info": {
   "codemirror_mode": {
    "name": "ipython",
    "version": 3
   },
   "file_extension": ".py",
   "mimetype": "text/x-python",
   "name": "python",
   "nbconvert_exporter": "python",
   "pygments_lexer": "ipython3",
   "version": "3.8.12"
  }
 },
 "nbformat": 4,
 "nbformat_minor": 5
}
